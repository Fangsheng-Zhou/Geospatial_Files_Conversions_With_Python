{
 "cells": [
  {
   "cell_type": "code",
   "execution_count": 1,
   "id": "3eb480ff",
   "metadata": {},
   "outputs": [],
   "source": [
    "# Importing necessary library\n",
    "import geopandas as gpd\n",
    "import fiona"
   ]
  },
  {
   "cell_type": "code",
   "execution_count": null,
   "id": "69f64fae",
   "metadata": {},
   "outputs": [],
   "source": [
    "# Function to convert GeoJSON to ESRI Shapefile\n",
    "def convert_geojson_to_shapefile(geojson_path, shapefile_path):\n",
    "    \"\"\"\n",
    "    Convert a GeoJSON file to an ESRI Shapefile.\n",
    "\n",
    "    Parameters:\n",
    "    geojson_path (str): The file path of the GeoJSON file.\n",
    "    shapefile_path (str): The desired file path for the output Shapefile.\n",
    "    \"\"\"\n",
    "    # Read the GeoJSON file\n",
    "    gdf = gpd.read_file(geojson_path)\n",
    "\n",
    "    # Write to a Shapefile\n",
    "    gdf.to_file(shapefile_path)\n",
    "\n",
    "geojson_path = \"path/to/your/input.geojson\"  # Replace with your GeoJSON file path\n",
    "shapefile_path = \"path/to/your/output.shp\"  # Replace with your desired output Shapefile path\n",
    "convert_geojson_to_shapefile(geojson_path, shapefile_path)"
   ]
  }
 ],
 "metadata": {
  "kernelspec": {
   "display_name": "Python 3 (ipykernel)",
   "language": "python",
   "name": "python3"
  },
  "language_info": {
   "codemirror_mode": {
    "name": "ipython",
    "version": 3
   },
   "file_extension": ".py",
   "mimetype": "text/x-python",
   "name": "python",
   "nbconvert_exporter": "python",
   "pygments_lexer": "ipython3",
   "version": "3.9.18"
  }
 },
 "nbformat": 4,
 "nbformat_minor": 5
}
