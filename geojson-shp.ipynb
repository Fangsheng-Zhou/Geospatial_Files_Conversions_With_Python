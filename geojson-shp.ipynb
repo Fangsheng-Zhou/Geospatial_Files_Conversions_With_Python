{
 "cells": [
  {
   "cell_type": "code",
   "execution_count": 1,
   "id": "3eb480ff",
   "metadata": {},
   "outputs": [],
   "source": [
    "# Importing necessary library\n",
    "import geopandas as gpd\n",
    "import fiona"
   ]
  },
  {
   "cell_type": "code",
   "execution_count": null,
   "id": "69f64fae",
   "metadata": {},
   "outputs": [],
   "source": [
    "# Function to convert GeoJSON to ESRI Shapefile\n",
    "def convert_geojson_to_shapefile(geojson_path, shapefile_path):\n",
    "    \"\"\"\n",
    "    Convert a GeoJSON file to an ESRI Shapefile.\n",
    "    \n",
    "    Parameters:\n",
    "    geojson_path (str): The file path of the GeoJSON file.\n",
    "    shapefile_path (str): The desired file path for the output Shapefile.\n",
    "    \"\"\"\n",
    "    # Read the GeoJSON file\n",
    "    gdf = gpd.read_file(geojson_path)\n",
    "\n",
    "    # Truncate field names to 10 characters\n",
    "    gdf.columns = [col[:10] if len(col) > 10 else col for col in gdf.columns]\n",
    "\n",
    "    # Write to a Shapefile, maintaining the original projection\n",
    "    gdf.to_file(shapefile_path)\n",
    "\n",
    "geojson_path = \"path/to/your/input.geojson\"  # Replace with your GeoJSON file path\n",
    "shapefile_path = \"path/to/your/output.shp\"  # Replace with your desired output Shapefile path\n",
    "convert_geojson_to_shapefile(geojson_path, shapefile_path)"
   ]
  },
  {
   "cell_type": "code",
   "execution_count": null,
   "metadata": {},
   "outputs": [],
   "source": [
    "# Checking projection system for the old and new files\n",
    "# Ideally, your projection system should not change during the conversion.\n",
    "\n",
    "# Old file\n",
    "old_gdf = gpd.read_file(geojson_path)\n",
    "print(old_gdf.crs)\n",
    "\n",
    "\n",
    "# New file\n",
    "new_gdf = gpd.read_file(shapefile_path)\n",
    "print(new_gdf.crs)"
   ]
  },
  {
   "cell_type": "code",
   "execution_count": null,
   "metadata": {},
   "outputs": [],
   "source": [
    "# Manually set CRS (example: using EPSG code)\n",
    "# xxx_gdf.set_crs(epsg=xxxx, inplace=True)"
   ]
  }
 ],
 "metadata": {
  "kernelspec": {
   "display_name": "Python 3 (ipykernel)",
   "language": "python",
   "name": "python3"
  },
  "language_info": {
   "codemirror_mode": {
    "name": "ipython",
    "version": 3
   },
   "file_extension": ".py",
   "mimetype": "text/x-python",
   "name": "python",
   "nbconvert_exporter": "python",
   "pygments_lexer": "ipython3",
   "version": "3.9.18"
  }
 },
 "nbformat": 4,
 "nbformat_minor": 5
}
